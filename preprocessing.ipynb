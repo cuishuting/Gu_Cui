{
 "cells": [
  {
   "cell_type": "code",
   "execution_count": 35,
   "id": "bd2d1eb2",
   "metadata": {},
   "outputs": [],
   "source": [
    "import numpy as np\n",
    "import pandas as pd\n",
    "import heapq\n",
    "from scipy import stats\n",
    "import matplotlib.pyplot as plt\n",
    "\n",
    "transactions = pd.read_csv(\"C:/Users/darli/Desktop/527/group project/h-and-m-personalized-fashion-recommendations/transactions_train.csv\")\n",
    "articles = pd.read_csv(\"C:/Users/darli/Desktop/527/group project/h-and-m-personalized-fashion-recommendations/articles.csv\")\n",
    "customers = pd.read_csv(\"C:/Users/darli/Desktop/527/group project/h-and-m-personalized-fashion-recommendations/customers.csv\")"
   ]
  },
  {
   "cell_type": "code",
   "execution_count": 44,
   "id": "f3a2c16e",
   "metadata": {},
   "outputs": [
    {
     "name": "stdout",
     "output_type": "stream",
     "text": [
      "Index(['article_id', 'product_code', 'prod_name', 'product_type_no',\n",
      "       'product_type_name', 'product_group_name', 'graphical_appearance_no',\n",
      "       'graphical_appearance_name', 'colour_group_code', 'colour_group_name',\n",
      "       'perceived_colour_value_id', 'perceived_colour_value_name',\n",
      "       'perceived_colour_master_id', 'perceived_colour_master_name',\n",
      "       'department_no', 'department_name', 'index_code', 'index_name',\n",
      "       'index_group_no', 'index_group_name', 'section_no', 'section_name',\n",
      "       'garment_group_no', 'garment_group_name', 'detail_desc'],\n",
      "      dtype='object')\n"
     ]
    }
   ],
   "source": [
    "print(articles.columns)"
   ]
  },
  {
   "cell_type": "code",
   "execution_count": 38,
   "id": "07388411",
   "metadata": {},
   "outputs": [
    {
     "name": "stdout",
     "output_type": "stream",
     "text": [
      "DescribeResult(nobs=31788324, minmax=(0.1694915254237288, 5915.254237288135), mean=278.2927385699378, variance=36791.567345439216, skewness=3.110518134362851, kurtosis=25.681142797566817)\n"
     ]
    },
    {
     "data": {
      "image/png": "[encoded data removed]",
      "text/plain": [
       "<Figure size 432x288 with 1 Axes>"
      ]
     },
     "metadata": {
      "needs_background": "light"
     },
     "output_type": "display_data"
    }
   ],
   "source": [
    "print(stats.describe(transactions['price']*1e+04))\n",
    "plt.hist(transactions['price']*1e+04,width=10)\n",
    "plt.show()"
   ]
  },
  {
   "cell_type": "code",
   "execution_count": 49,
   "id": "43cc5cad",
   "metadata": {
    "scrolled": true
   },
   "outputs": [
    {
     "name": "stdout",
     "output_type": "stream",
     "text": [
      "article_id                        0\n",
      "product_code                      0\n",
      "prod_name                         0\n",
      "product_type_no                   0\n",
      "product_type_name                 0\n",
      "product_group_name                0\n",
      "graphical_appearance_no           0\n",
      "graphical_appearance_name         0\n",
      "colour_group_code                 0\n",
      "colour_group_name                 0\n",
      "perceived_colour_value_id         0\n",
      "perceived_colour_value_name       0\n",
      "perceived_colour_master_id        0\n",
      "perceived_colour_master_name      0\n",
      "department_no                     0\n",
      "department_name                   0\n",
      "index_code                        0\n",
      "index_name                        0\n",
      "index_group_no                    0\n",
      "index_group_name                  0\n",
      "section_no                        0\n",
      "section_name                      0\n",
      "garment_group_no                  0\n",
      "garment_group_name                0\n",
      "detail_desc                     416\n",
      "dtype: int64\n",
      "   article_id  product_code          prod_name  product_type_no  \\\n",
      "0   108775015        108775          Strap top              253   \n",
      "1   108775044        108775          Strap top              253   \n",
      "2   108775051        108775      Strap top (1)              253   \n",
      "3   110065001        110065  OP T-shirt (Idro)              306   \n",
      "4   110065002        110065  OP T-shirt (Idro)              306   \n",
      "\n",
      "  product_type_name  product_group_name  graphical_appearance_no  \\\n",
      "0          Vest top  Garment Upper body                  1010016   \n",
      "1          Vest top  Garment Upper body                  1010016   \n",
      "2          Vest top  Garment Upper body                  1010017   \n",
      "3               Bra           Underwear                  1010016   \n",
      "4               Bra           Underwear                  1010016   \n",
      "\n",
      "  graphical_appearance_name  colour_group_code colour_group_name  ...  \\\n",
      "0                     Solid                  9             Black  ...   \n",
      "1                     Solid                 10             White  ...   \n",
      "2                    Stripe                 11         Off White  ...   \n",
      "3                     Solid                  9             Black  ...   \n",
      "4                     Solid                 10             White  ...   \n",
      "\n",
      "   department_name index_code        index_name index_group_no  \\\n",
      "0     Jersey Basic          A        Ladieswear              1   \n",
      "1     Jersey Basic          A        Ladieswear              1   \n",
      "2     Jersey Basic          A        Ladieswear              1   \n",
      "3   Clean Lingerie          B  Lingeries/Tights              1   \n",
      "4   Clean Lingerie          B  Lingeries/Tights              1   \n",
      "\n",
      "   index_group_name section_no            section_name garment_group_no  \\\n",
      "0        Ladieswear         16  Womens Everyday Basics             1002   \n",
      "1        Ladieswear         16  Womens Everyday Basics             1002   \n",
      "2        Ladieswear         16  Womens Everyday Basics             1002   \n",
      "3        Ladieswear         61         Womens Lingerie             1017   \n",
      "4        Ladieswear         61         Womens Lingerie             1017   \n",
      "\n",
      "   garment_group_name                                        detail_desc  \n",
      "0        Jersey Basic            Jersey top with narrow shoulder straps.  \n",
      "1        Jersey Basic            Jersey top with narrow shoulder straps.  \n",
      "2        Jersey Basic            Jersey top with narrow shoulder straps.  \n",
      "3   Under-, Nightwear  Microfibre T-shirt bra with underwired, moulde...  \n",
      "4   Under-, Nightwear  Microfibre T-shirt bra with underwired, moulde...  \n",
      "\n",
      "[5 rows x 25 columns]\n"
     ]
    }
   ],
   "source": [
    "print(articles.isnull().sum())\n",
    "print(articles.head(5))"
   ]
  },
  {
   "cell_type": "code",
   "execution_count": 53,
   "id": "f8d86c58",
   "metadata": {
    "scrolled": true
   },
   "outputs": [
    {
     "name": "stdout",
     "output_type": "stream",
     "text": [
      "(1, 34)\n",
      "[[0.         0.         0.         0.         0.         0.\n",
      "  0.         0.         0.         0.         0.         0.\n",
      "  0.         0.         0.49844628 0.         0.         0.\n",
      "  0.35464863 0.         0.         0.         0.         0.\n",
      "  0.35464863 0.35464863 0.         0.         0.         0.49844628\n",
      "  0.         0.         0.35464863 0.        ]]\n",
      "  (0, 11821)\t0.5486734273232609\n",
      "  (0, 11110)\t0.8360367636350368\n",
      "  (1, 11821)\t0.5486734273232609\n",
      "  (1, 11110)\t0.8360367636350368\n",
      "  (2, 11821)\t0.5486734273232609\n",
      "  (2, 11110)\t0.8360367636350368\n",
      "  (3, 5405)\t0.6800936150862582\n",
      "  (3, 10457)\t0.3644738076905591\n",
      "  (3, 8403)\t0.6361065305642207\n",
      "  (4, 5405)\t0.6800936150862582\n",
      "  (4, 10457)\t0.3644738076905591\n",
      "  (4, 8403)\t0.6361065305642207\n",
      "  (5, 5405)\t0.6800936150862582\n",
      "  (5, 10457)\t0.3644738076905591\n",
      "  (5, 8403)\t0.6361065305642207\n",
      "  (6, 11091)\t0.5854468761091439\n",
      "  (6, 25)\t0.3959896873482508\n",
      "  (6, 3174)\t0.4657416049561216\n",
      "  (6, 28)\t0.532474300019048\n",
      "  (7, 11091)\t0.5854468761091439\n",
      "  (7, 25)\t0.3959896873482508\n",
      "  (7, 3174)\t0.4657416049561216\n",
      "  (7, 28)\t0.532474300019048\n",
      "  (8, 11695)\t0.2956787137830496\n",
      "  (8, 60)\t0.5375599309092587\n",
      "  :\t:\n",
      "  (105533, 2649)\t0.6849770183646003\n",
      "  (105533, 1761)\t0.666688988797294\n",
      "  (105533, 3955)\t0.29382354658669513\n",
      "  (105534, 9019)\t0.5018252142165378\n",
      "  (105534, 5082)\t0.4452428721256139\n",
      "  (105534, 8499)\t0.5438186010615277\n",
      "  (105534, 11695)\t0.31434471789796353\n",
      "  (105534, 25)\t0.3941813880271276\n",
      "  (105535, 5746)\t0.9571408929204003\n",
      "  (105535, 3439)\t0.2896227047376277\n",
      "  (105536, 3696)\t0.8973702864297143\n",
      "  (105536, 11821)\t0.44127833510501374\n",
      "  (105537, 9016)\t0.761200411322192\n",
      "  (105537, 109)\t0.47564128382765397\n",
      "  (105537, 9502)\t0.44083931644274527\n",
      "  (105538, 7085)\t0.6695658175151724\n",
      "  (105538, 11457)\t0.4539355884248234\n",
      "  (105538, 10958)\t0.5878980333158534\n",
      "  (105539, 2088)\t0.9571408929204003\n",
      "  (105539, 3439)\t0.2896227047376277\n",
      "  (105540, 2470)\t0.5950304602389443\n",
      "  (105540, 4904)\t0.5674941951109146\n",
      "  (105540, 2494)\t0.5691125459021662\n",
      "  (105541, 6872)\t0.9297176468659988\n",
      "  (105541, 3439)\t0.3682731284060109\n"
     ]
    }
   ],
   "source": [
    "from sklearn import feature_extraction, linear_model, model_selection, preprocessing\n",
    "\n",
    "#Conversion of texts to Vector Space Model ---tfidfVectorizer\n",
    "\n",
    "tfidf_vectorizer = feature_extraction.text.TfidfVectorizer()\n",
    "\n",
    "## let's get counts for the first 5 tweets in the data\n",
    "example_train_vectors = tfidf_vectorizer.fit_transform(articles[\"detail_desc\"][0:5])\n",
    "\n",
    "print(example_train_vectors[0].todense().shape)\n",
    "print(example_train_vectors[0].todense())\n",
    "\n",
    "\n",
    "train_vectors = tfidf_vectorizer.fit_transform(articles[\"prod_name\"])\n",
    "print(train_vectors)"
   ]
  },
  {
   "cell_type": "code",
   "execution_count": null,
   "id": "a06941ff",
   "metadata": {},
   "outputs": [],
   "source": []
  }
 ],
 "metadata": {
  "kernelspec": {
   "display_name": "Python 3",
   "language": "python",
   "name": "python3"
  },
  "language_info": {
   "codemirror_mode": {
    "name": "ipython",
    "version": 3
   },
   "file_extension": ".py",
   "mimetype": "text/x-python",
   "name": "python",
   "nbconvert_exporter": "python",
   "pygments_lexer": "ipython3",
   "version": "3.8.8"
  }
 },
 "nbformat": 4,
 "nbformat_minor": 5
}
