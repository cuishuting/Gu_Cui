{
 "cells": [
  {
   "cell_type": "code",
   "execution_count": 1,
   "id": "1c097848",
   "metadata": {},
   "outputs": [
    {
     "name": "stdout",
     "output_type": "stream",
     "text": [
      "Requirement already satisfied: implicit in c:\\users\\darli\\anaconda3\\lib\\site-packages (0.5.2)\n",
      "Requirement already satisfied: numpy in c:\\users\\darli\\anaconda3\\lib\\site-packages (from implicit) (1.20.1)\n",
      "Requirement already satisfied: scipy>=0.16 in c:\\users\\darli\\anaconda3\\lib\\site-packages (from implicit) (1.6.2)\n",
      "Requirement already satisfied: tqdm>=4.27 in c:\\users\\darli\\anaconda3\\lib\\site-packages (from implicit) (4.59.0)\n"
     ]
    }
   ],
   "source": [
    "!pip install --upgrade implicit"
   ]
  },
  {
   "cell_type": "code",
   "execution_count": 10,
   "id": "584f865e",
   "metadata": {},
   "outputs": [],
   "source": [
    "import os; os.environ['OPENBLAS_NUM_THREADS']='1'\n",
    "import numpy as np\n",
    "import pandas as pd\n",
    "import implicit\n",
    "from scipy.sparse import coo_matrix\n",
    "from implicit.evaluation import mean_average_precision_at_k"
   ]
  },
  {
   "cell_type": "code",
   "execution_count": 11,
   "id": "88be5a9a",
   "metadata": {},
   "outputs": [],
   "source": [
    "base_path = 'C://Users//darli//Desktop//527//group project//h-and-m-personalized-fashion-recommendations//'\n",
    "csv_train = f'{base_path}transactions_train.csv'\n",
    "csv_sub = f'{base_path}sample_submission.csv'\n",
    "csv_users = f'{base_path}customers.csv'\n",
    "csv_items = f'{base_path}articles.csv'\n",
    "\n",
    "df = pd.read_csv(csv_train, dtype={'article_id': str}, parse_dates=['t_dat'])\n",
    "df_sub = pd.read_csv(csv_sub)\n",
    "dfu = pd.read_csv(csv_users)\n",
    "dfi = pd.read_csv(csv_items, dtype={'article_id': str})"
   ]
  },
  {
   "cell_type": "code",
   "execution_count": 12,
   "id": "3d89c513",
   "metadata": {},
   "outputs": [
    {
     "name": "stdout",
     "output_type": "stream",
     "text": [
      "(31788324,)\n",
      "2020-09-22 00:00:00\n",
      "2018-09-20 00:00:00\n",
      "(9408462, 5)\n"
     ]
    }
   ],
   "source": [
    "print(df['t_dat'].shape)\n",
    "print(df['t_dat'].max())\n",
    "print(df['t_dat'].min())\n",
    "df1 = df[df['sales_channel_id'] ==1]\n",
    "print(df1.shape)"
   ]
  },
  {
   "cell_type": "code",
   "execution_count": 25,
   "id": "ddefe28e",
   "metadata": {},
   "outputs": [
    {
     "name": "stdout",
     "output_type": "stream",
     "text": [
      "t_dat               0\n",
      "customer_id         0\n",
      "article_id          0\n",
      "price               0\n",
      "sales_channel_id    0\n",
      "user_id             0\n",
      "item_id             0\n",
      "dtype: int64\n"
     ]
    }
   ],
   "source": [
    "print(df.isnull().sum())"
   ]
  },
  {
   "cell_type": "code",
   "execution_count": 19,
   "id": "c01a01b9",
   "metadata": {},
   "outputs": [
    {
     "data": {
      "text/plain": [
       "(1190911, 5)"
      ]
     },
     "execution_count": 19,
     "metadata": {},
     "output_type": "execute_result"
    }
   ],
   "source": [
    "df = df[df['t_dat'] > '2020-08-21']\n",
    "df.shape"
   ]
  },
  {
   "cell_type": "code",
   "execution_count": 20,
   "id": "74dc05cf",
   "metadata": {},
   "outputs": [
    {
     "name": "stdout",
     "output_type": "stream",
     "text": [
      "Index(['t_dat', 'customer_id', 'article_id', 'price', 'sales_channel_id'], dtype='object')\n",
      "Index(['customer_id', 'FN', 'Active', 'club_member_status',\n",
      "       'fashion_news_frequency', 'age', 'postal_code'],\n",
      "      dtype='object')\n"
     ]
    }
   ],
   "source": [
    "print(df.columns)\n",
    "print(dfu.columns)"
   ]
  },
  {
   "cell_type": "code",
   "execution_count": 22,
   "id": "a8f737d6",
   "metadata": {},
   "outputs": [],
   "source": [
    "ALL_USERS = dfu['customer_id'].unique().tolist()\n",
    "ALL_ITEMS = dfi['article_id'].unique().tolist()\n",
    "\n",
    "user_ids = dict(list(enumerate(ALL_USERS)))\n",
    "item_ids = dict(list(enumerate(ALL_ITEMS)))\n",
    "\n",
    "# dict_items = user_ids.items()\n",
    "# first_ten = list(dict_items)[:10]\n",
    "# print('user_ids:\\n',first_ten)\n",
    "\n",
    "user_map = {u: uidx for uidx, u in user_ids.items()}\n",
    "item_map = {i: iidx for iidx, i in item_ids.items()}\n",
    "# print('user_id 1:\\n',df['customer_id'])\n",
    "\n",
    "df['user_id'] = df['customer_id'].map(user_map)\n",
    "# print('user_id 2:\\n',df['user_id'])\n",
    "df['item_id'] = df['article_id'].map(item_map)\n",
    "\n",
    "del dfu, dfi"
   ]
  },
  {
   "cell_type": "code",
   "execution_count": 23,
   "id": "82c630e0",
   "metadata": {},
   "outputs": [
    {
     "data": {
      "text/plain": [
       "<1371980x105542 sparse matrix of type '<class 'numpy.float64'>'\n",
       "\twith 1190911 stored elements in COOrdinate format>"
      ]
     },
     "execution_count": 23,
     "metadata": {},
     "output_type": "execute_result"
    }
   ],
   "source": [
    "row = df['user_id'].values\n",
    "col = df['item_id'].values\n",
    "data = np.ones(df.shape[0])  #if purchase, set as one\n",
    "coo_train = coo_matrix((data, (row, col)), shape=(len(ALL_USERS), len(ALL_ITEMS)))\n",
    "coo_train"
   ]
  },
  {
   "cell_type": "code",
   "execution_count": 24,
   "id": "57821de5",
   "metadata": {},
   "outputs": [
    {
     "name": "stderr",
     "output_type": "stream",
     "text": [
      "C:\\Users\\darli\\anaconda3\\lib\\site-packages\\implicit\\utils.py:31: UserWarning: Intel MKL BLAS detected. Its highly recommend to set the environment variable 'export MKL_NUM_THREADS=1' to disable its internal multithreading\n",
      "  warnings.warn(\n"
     ]
    },
    {
     "data": {
      "application/vnd.jupyter.widget-view+json": {
       "model_id": "983919a645024a50b55ec50ae7ce7973",
       "version_major": 2,
       "version_minor": 0
      },
      "text/plain": [
       "  0%|          | 0/2 [00:00<?, ?it/s]"
      ]
     },
     "metadata": {},
     "output_type": "display_data"
    }
   ],
   "source": [
    "model = implicit.als.AlternatingLeastSquares(factors=10, iterations=2)\n",
    "model.fit(coo_train)"
   ]
  },
  {
   "cell_type": "code",
   "execution_count": null,
   "id": "938618cb",
   "metadata": {},
   "outputs": [],
   "source": []
  }
 ],
 "metadata": {
  "kernelspec": {
   "display_name": "Python 3",
   "language": "python",
   "name": "python3"
  },
  "language_info": {
   "codemirror_mode": {
    "name": "ipython",
    "version": 3
   },
   "file_extension": ".py",
   "mimetype": "text/x-python",
   "name": "python",
   "nbconvert_exporter": "python",
   "pygments_lexer": "ipython3",
   "version": "3.8.8"
  }
 },
 "nbformat": 4,
 "nbformat_minor": 5
}
