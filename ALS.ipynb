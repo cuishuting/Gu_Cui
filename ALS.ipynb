{
 "cells": [
  {
   "cell_type": "code",
   "execution_count": null,
   "id": "1c097848",
   "metadata": {},
   "outputs": [],
   "source": [
    "!pip install --upgrade implicit"
   ]
  },
  {
   "cell_type": "code",
   "execution_count": 1,
   "id": "584f865e",
   "metadata": {},
   "outputs": [],
   "source": [
    "import os; os.environ['OPENBLAS_NUM_THREADS']='10'\n",
    "import numpy as np\n",
    "import pandas as pd\n",
    "import implicit\n",
    "from scipy.sparse import coo_matrix\n",
    "from implicit.evaluation import mean_average_precision_at_k\n",
    "from sklearn.model_selection import RandomizedSearchCV, GridSearchCV\n",
    "from sklearn.model_selection import ParameterGrid"
   ]
  },
  {
   "cell_type": "code",
   "execution_count": 2,
   "id": "88be5a9a",
   "metadata": {},
   "outputs": [],
   "source": [
    "base_path = 'C://Users//darli//Desktop//527//group project//h-and-m-personalized-fashion-recommendations//'\n",
    "csv_train = f'{base_path}transactions_train.csv'\n",
    "csv_sub = f'{base_path}sample_submission.csv'\n",
    "csv_users = f'{base_path}customers.csv'\n",
    "csv_items = f'{base_path}articles.csv'\n",
    "\n",
    "df = pd.read_csv(csv_train, dtype={'article_id': str}, parse_dates=['t_dat'])\n",
    "df_sub = pd.read_csv(csv_sub)\n",
    "dfu = pd.read_csv(csv_users)\n",
    "dfi = pd.read_csv(csv_items, dtype={'article_id': str})"
   ]
  },
  {
   "cell_type": "code",
   "execution_count": 3,
   "id": "3d89c513",
   "metadata": {},
   "outputs": [
    {
     "name": "stdout",
     "output_type": "stream",
     "text": [
      "(31788324,)\n",
      "2020-09-22 00:00:00\n",
      "2018-09-20 00:00:00\n",
      "(9408462, 5)\n"
     ]
    }
   ],
   "source": [
    "print(df['t_dat'].shape)\n",
    "print(df['t_dat'].max())\n",
    "print(df['t_dat'].min())\n",
    "df1 = df[df['sales_channel_id'] ==1]\n",
    "print(df1.shape)"
   ]
  },
  {
   "cell_type": "code",
   "execution_count": 4,
   "id": "ddefe28e",
   "metadata": {},
   "outputs": [
    {
     "name": "stdout",
     "output_type": "stream",
     "text": [
      "t_dat               0\n",
      "customer_id         0\n",
      "article_id          0\n",
      "price               0\n",
      "sales_channel_id    0\n",
      "dtype: int64\n"
     ]
    }
   ],
   "source": [
    "print(df.isnull().sum())"
   ]
  },
  {
   "cell_type": "code",
   "execution_count": 5,
   "id": "c01a01b9",
   "metadata": {},
   "outputs": [
    {
     "data": {
      "text/plain": [
       "(1190911, 5)"
      ]
     },
     "execution_count": 5,
     "metadata": {},
     "output_type": "execute_result"
    }
   ],
   "source": [
    "# use the data after 2020-08-21 to find the best parameters (factors, regularization and interations)\n",
    "df = df[df['t_dat'] > '2020-08-21']\n",
    "df.shape"
   ]
  },
  {
   "cell_type": "code",
   "execution_count": 6,
   "id": "74dc05cf",
   "metadata": {},
   "outputs": [
    {
     "name": "stdout",
     "output_type": "stream",
     "text": [
      "Index(['t_dat', 'customer_id', 'article_id', 'price', 'sales_channel_id'], dtype='object')\n",
      "Index(['customer_id', 'FN', 'Active', 'club_member_status',\n",
      "       'fashion_news_frequency', 'age', 'postal_code'],\n",
      "      dtype='object')\n"
     ]
    }
   ],
   "source": [
    "print(df.columns)\n",
    "print(dfu.columns)"
   ]
  },
  {
   "cell_type": "code",
   "execution_count": 7,
   "id": "a8f737d6",
   "metadata": {},
   "outputs": [],
   "source": [
    "ALL_USERS = dfu['customer_id'].unique().tolist()\n",
    "ALL_ITEMS = dfi['article_id'].unique().tolist()\n",
    "\n",
    "user_ids = dict(list(enumerate(ALL_USERS)))\n",
    "item_ids = dict(list(enumerate(ALL_ITEMS)))\n",
    "\n",
    "user_map = {u: uidx for uidx, u in user_ids.items()}\n",
    "item_map = {i: iidx for iidx, i in item_ids.items()}\n",
    "\n",
    "df['user_id'] = df['customer_id'].map(user_map)\n",
    "df['item_id'] = df['article_id'].map(item_map)\n",
    "\n",
    "del dfu, dfi"
   ]
  },
  {
   "cell_type": "code",
   "execution_count": 8,
   "id": "1d5c043e",
   "metadata": {},
   "outputs": [
    {
     "data": {
      "text/html": [
       "<div>\n",
       "<style scoped>\n",
       "    .dataframe tbody tr th:only-of-type {\n",
       "        vertical-align: middle;\n",
       "    }\n",
       "\n",
       "    .dataframe tbody tr th {\n",
       "        vertical-align: top;\n",
       "    }\n",
       "\n",
       "    .dataframe thead th {\n",
       "        text-align: right;\n",
       "    }\n",
       "</style>\n",
       "<table border=\"1\" class=\"dataframe\">\n",
       "  <thead>\n",
       "    <tr style=\"text-align: right;\">\n",
       "      <th></th>\n",
       "      <th>t_dat</th>\n",
       "      <th>customer_id</th>\n",
       "      <th>article_id</th>\n",
       "      <th>price</th>\n",
       "      <th>sales_channel_id</th>\n",
       "      <th>user_id</th>\n",
       "      <th>item_id</th>\n",
       "    </tr>\n",
       "  </thead>\n",
       "  <tbody>\n",
       "    <tr>\n",
       "      <th>30597413</th>\n",
       "      <td>2020-08-22</td>\n",
       "      <td>0001d44dbe7f6c4b35200abdb052c77a87596fe1bdcc37...</td>\n",
       "      <td>0913688003</td>\n",
       "      <td>0.033881</td>\n",
       "      <td>2</td>\n",
       "      <td>38</td>\n",
       "      <td>103595</td>\n",
       "    </tr>\n",
       "    <tr>\n",
       "      <th>30597414</th>\n",
       "      <td>2020-08-22</td>\n",
       "      <td>0001d44dbe7f6c4b35200abdb052c77a87596fe1bdcc37...</td>\n",
       "      <td>0913688003</td>\n",
       "      <td>0.033881</td>\n",
       "      <td>2</td>\n",
       "      <td>38</td>\n",
       "      <td>103595</td>\n",
       "    </tr>\n",
       "    <tr>\n",
       "      <th>30597415</th>\n",
       "      <td>2020-08-22</td>\n",
       "      <td>0001d44dbe7f6c4b35200abdb052c77a87596fe1bdcc37...</td>\n",
       "      <td>0923460001</td>\n",
       "      <td>0.042356</td>\n",
       "      <td>2</td>\n",
       "      <td>38</td>\n",
       "      <td>104483</td>\n",
       "    </tr>\n",
       "    <tr>\n",
       "      <th>30597416</th>\n",
       "      <td>2020-08-22</td>\n",
       "      <td>0001d44dbe7f6c4b35200abdb052c77a87596fe1bdcc37...</td>\n",
       "      <td>0934380001</td>\n",
       "      <td>0.050831</td>\n",
       "      <td>2</td>\n",
       "      <td>38</td>\n",
       "      <td>105214</td>\n",
       "    </tr>\n",
       "    <tr>\n",
       "      <th>30597417</th>\n",
       "      <td>2020-08-22</td>\n",
       "      <td>0001d44dbe7f6c4b35200abdb052c77a87596fe1bdcc37...</td>\n",
       "      <td>0913688001</td>\n",
       "      <td>0.033881</td>\n",
       "      <td>2</td>\n",
       "      <td>38</td>\n",
       "      <td>103593</td>\n",
       "    </tr>\n",
       "  </tbody>\n",
       "</table>\n",
       "</div>"
      ],
      "text/plain": [
       "              t_dat                                        customer_id  \\\n",
       "30597413 2020-08-22  0001d44dbe7f6c4b35200abdb052c77a87596fe1bdcc37...   \n",
       "30597414 2020-08-22  0001d44dbe7f6c4b35200abdb052c77a87596fe1bdcc37...   \n",
       "30597415 2020-08-22  0001d44dbe7f6c4b35200abdb052c77a87596fe1bdcc37...   \n",
       "30597416 2020-08-22  0001d44dbe7f6c4b35200abdb052c77a87596fe1bdcc37...   \n",
       "30597417 2020-08-22  0001d44dbe7f6c4b35200abdb052c77a87596fe1bdcc37...   \n",
       "\n",
       "          article_id     price  sales_channel_id  user_id  item_id  \n",
       "30597413  0913688003  0.033881                 2       38   103595  \n",
       "30597414  0913688003  0.033881                 2       38   103595  \n",
       "30597415  0923460001  0.042356                 2       38   104483  \n",
       "30597416  0934380001  0.050831                 2       38   105214  \n",
       "30597417  0913688001  0.033881                 2       38   103593  "
      ]
     },
     "execution_count": 8,
     "metadata": {},
     "output_type": "execute_result"
    }
   ],
   "source": [
    "df.head()"
   ]
  },
  {
   "cell_type": "code",
   "execution_count": 9,
   "id": "82c630e0",
   "metadata": {},
   "outputs": [
    {
     "data": {
      "text/plain": [
       "<1371980x105542 sparse matrix of type '<class 'numpy.float64'>'\n",
       "\twith 1190911 stored elements in COOrdinate format>"
      ]
     },
     "execution_count": 9,
     "metadata": {},
     "output_type": "execute_result"
    }
   ],
   "source": [
    "row = df['user_id'].values\n",
    "col = df['item_id'].values\n",
    "data = np.ones(df.shape[0])  #if purchase, set as one\n",
    "coo_train = coo_matrix((data, (row, col)), shape=(len(ALL_USERS), len(ALL_ITEMS)))\n",
    "coo_train"
   ]
  },
  {
   "cell_type": "code",
   "execution_count": 10,
   "id": "57821de5",
   "metadata": {},
   "outputs": [
    {
     "name": "stderr",
     "output_type": "stream",
     "text": [
      "C:\\Users\\darli\\anaconda3\\lib\\site-packages\\implicit\\utils.py:31: UserWarning: Intel MKL BLAS detected. Its highly recommend to set the environment variable 'export MKL_NUM_THREADS=1' to disable its internal multithreading\n",
      "  warnings.warn(\n"
     ]
    },
    {
     "data": {
      "application/vnd.jupyter.widget-view+json": {
       "model_id": "532066722fef46a189150a05ba960318",
       "version_major": 2,
       "version_minor": 0
      },
      "text/plain": [
       "  0%|          | 0/2 [00:00<?, ?it/s]"
      ]
     },
     "metadata": {},
     "output_type": "display_data"
    }
   ],
   "source": [
    "model = implicit.als.AlternatingLeastSquares(factors=10, iterations=2)\n",
    "model.fit(coo_train)"
   ]
  },
  {
   "cell_type": "code",
   "execution_count": 11,
   "id": "938618cb",
   "metadata": {},
   "outputs": [],
   "source": [
    "def to_user_item_coo(df):\n",
    "    row = df['user_id'].values\n",
    "    col = df['item_id'].values\n",
    "    data = np.ones(df.shape[0])\n",
    "    coo = coo_matrix((data, (row, col)), shape=(len(ALL_USERS), len(ALL_ITEMS)))\n",
    "    return coo\n",
    "\n",
    "\n",
    "def split_data(df, validation_days=5):\n",
    "    validation_cut = df['t_dat'].max() - pd.Timedelta(validation_days)\n",
    "\n",
    "    df_train = df[df['t_dat'] < validation_cut]\n",
    "    df_val = df[df['t_dat'] >= validation_cut]\n",
    "    return df_train, df_val\n",
    "\n",
    "def get_val_matrices(df, validation_days=7):\n",
    "    df_train, df_val = split_data(df, validation_days=validation_days)\n",
    "    coo_train = to_user_item_coo(df_train)\n",
    "    coo_val = to_user_item_coo(df_val)\n",
    "\n",
    "    csr_train = coo_train.tocsr()\n",
    "    csr_val = coo_val.tocsr()\n",
    "    \n",
    "    return {'coo_train': coo_train,\n",
    "            'csr_train': csr_train,\n",
    "            'csr_val': csr_val          }\n"
   ]
  },
  {
   "cell_type": "code",
   "execution_count": 12,
   "id": "9719af65",
   "metadata": {},
   "outputs": [
    {
     "name": "stdout",
     "output_type": "stream",
     "text": [
      "Factors: 50 - Iterations: 2 - Regularization: 0.01 ==> MAP@12: 0.0032847028329455017\n",
      "The best MAP@12 is unpdated. : {'factors': 50, 'iterations': 2, 'regularization': 0.01}\n",
      "Factors: 50 - Iterations: 2 - Regularization: 0.05 ==> MAP@12: 0.0031477183326164286\n",
      "Factors: 50 - Iterations: 2 - Regularization: 0.1 ==> MAP@12: 0.0035058996230396358\n",
      "The best MAP@12 is unpdated. : {'factors': 50, 'iterations': 2, 'regularization': 0.1}\n",
      "Factors: 50 - Iterations: 2 - Regularization: 1 ==> MAP@12: 0.0033902043415958696\n",
      "Factors: 50 - Iterations: 3 - Regularization: 0.01 ==> MAP@12: 0.003909433692749615\n",
      "The best MAP@12 is unpdated. : {'factors': 50, 'iterations': 3, 'regularization': 0.01}\n",
      "Factors: 50 - Iterations: 3 - Regularization: 0.05 ==> MAP@12: 0.004435833714978221\n",
      "The best MAP@12 is unpdated. : {'factors': 50, 'iterations': 3, 'regularization': 0.05}\n",
      "Factors: 50 - Iterations: 3 - Regularization: 0.1 ==> MAP@12: 0.004534878732087537\n",
      "The best MAP@12 is unpdated. : {'factors': 50, 'iterations': 3, 'regularization': 0.1}\n",
      "Factors: 50 - Iterations: 3 - Regularization: 1 ==> MAP@12: 0.004561886939119084\n",
      "The best MAP@12 is unpdated. : {'factors': 50, 'iterations': 3, 'regularization': 1}\n",
      "Factors: 50 - Iterations: 5 - Regularization: 0.01 ==> MAP@12: 0.005230624094012209\n",
      "The best MAP@12 is unpdated. : {'factors': 50, 'iterations': 5, 'regularization': 0.01}\n",
      "Factors: 50 - Iterations: 5 - Regularization: 0.05 ==> MAP@12: 0.005220806134118937\n",
      "Factors: 50 - Iterations: 5 - Regularization: 0.1 ==> MAP@12: 0.005240632087690732\n",
      "The best MAP@12 is unpdated. : {'factors': 50, 'iterations': 5, 'regularization': 0.1}\n",
      "Factors: 50 - Iterations: 5 - Regularization: 1 ==> MAP@12: 0.005298740608102724\n",
      "The best MAP@12 is unpdated. : {'factors': 50, 'iterations': 5, 'regularization': 1}\n",
      "Factors: 50 - Iterations: 12 - Regularization: 0.01 ==> MAP@12: 0.0058506107706200045\n",
      "The best MAP@12 is unpdated. : {'factors': 50, 'iterations': 12, 'regularization': 0.01}\n",
      "Factors: 50 - Iterations: 12 - Regularization: 0.05 ==> MAP@12: 0.005682245314555192\n",
      "Factors: 50 - Iterations: 12 - Regularization: 0.1 ==> MAP@12: 0.005824077838417161\n",
      "Factors: 50 - Iterations: 12 - Regularization: 1 ==> MAP@12: 0.0053343960675939425\n",
      "Factors: 50 - Iterations: 15 - Regularization: 0.01 ==> MAP@12: 0.0055309682056611\n",
      "Factors: 50 - Iterations: 15 - Regularization: 0.05 ==> MAP@12: 0.005557468158389516\n",
      "Factors: 50 - Iterations: 15 - Regularization: 0.1 ==> MAP@12: 0.0054957555636697035\n",
      "Factors: 50 - Iterations: 15 - Regularization: 1 ==> MAP@12: 0.005227573999816284\n",
      "Factors: 50 - Iterations: 20 - Regularization: 0.01 ==> MAP@12: 0.005430679626980224\n",
      "Factors: 50 - Iterations: 20 - Regularization: 0.05 ==> MAP@12: 0.005618052780025622\n",
      "Factors: 50 - Iterations: 20 - Regularization: 0.1 ==> MAP@12: 0.00532876683409221\n",
      "Factors: 50 - Iterations: 20 - Regularization: 1 ==> MAP@12: 0.005502641276529964\n",
      "Factors: 100 - Iterations: 2 - Regularization: 0.01 ==> MAP@12: 0.0037289571835035663\n",
      "Factors: 100 - Iterations: 2 - Regularization: 0.05 ==> MAP@12: 0.004551488194282585\n",
      "Factors: 100 - Iterations: 2 - Regularization: 0.1 ==> MAP@12: 0.003769009116687421\n",
      "Factors: 100 - Iterations: 2 - Regularization: 1 ==> MAP@12: 0.004205137902099069\n",
      "Factors: 100 - Iterations: 3 - Regularization: 0.01 ==> MAP@12: 0.005552919511903043\n",
      "Factors: 100 - Iterations: 3 - Regularization: 0.05 ==> MAP@12: 0.005362912161627495\n",
      "Factors: 100 - Iterations: 3 - Regularization: 0.1 ==> MAP@12: 0.005934171108635013\n",
      "The best MAP@12 is unpdated. : {'factors': 100, 'iterations': 3, 'regularization': 0.1}\n",
      "Factors: 100 - Iterations: 3 - Regularization: 1 ==> MAP@12: 0.00530383432151337\n",
      "Factors: 100 - Iterations: 5 - Regularization: 0.01 ==> MAP@12: 0.006352282602350455\n",
      "The best MAP@12 is unpdated. : {'factors': 100, 'iterations': 5, 'regularization': 0.01}\n",
      "Factors: 100 - Iterations: 5 - Regularization: 0.05 ==> MAP@12: 0.0063260999971778056\n",
      "Factors: 100 - Iterations: 5 - Regularization: 0.1 ==> MAP@12: 0.006278389073969914\n",
      "Factors: 100 - Iterations: 5 - Regularization: 1 ==> MAP@12: 0.006200132410346223\n",
      "Factors: 100 - Iterations: 12 - Regularization: 0.01 ==> MAP@12: 0.006295452487578066\n",
      "Factors: 100 - Iterations: 12 - Regularization: 0.05 ==> MAP@12: 0.006324563695642907\n",
      "Factors: 100 - Iterations: 12 - Regularization: 0.1 ==> MAP@12: 0.00632267149307516\n",
      "Factors: 100 - Iterations: 12 - Regularization: 1 ==> MAP@12: 0.006133684956263527\n",
      "Factors: 100 - Iterations: 15 - Regularization: 0.01 ==> MAP@12: 0.006310159538048439\n",
      "Factors: 100 - Iterations: 15 - Regularization: 0.05 ==> MAP@12: 0.006192222318623351\n",
      "Factors: 100 - Iterations: 15 - Regularization: 0.1 ==> MAP@12: 0.006091635457374447\n",
      "Factors: 100 - Iterations: 15 - Regularization: 1 ==> MAP@12: 0.006369618719822604\n",
      "The best MAP@12 is unpdated. : {'factors': 100, 'iterations': 15, 'regularization': 1}\n",
      "Factors: 100 - Iterations: 20 - Regularization: 0.01 ==> MAP@12: 0.006303178317424347\n",
      "Factors: 100 - Iterations: 20 - Regularization: 0.05 ==> MAP@12: 0.006332886472468906\n",
      "Factors: 100 - Iterations: 20 - Regularization: 0.1 ==> MAP@12: 0.006166841622955256\n",
      "Factors: 100 - Iterations: 20 - Regularization: 1 ==> MAP@12: 0.006186132012923842\n",
      "Factors: 200 - Iterations: 2 - Regularization: 0.01 ==> MAP@12: 0.00500723627104865\n",
      "Factors: 200 - Iterations: 2 - Regularization: 0.05 ==> MAP@12: 0.005477872396751985\n",
      "Factors: 200 - Iterations: 2 - Regularization: 0.1 ==> MAP@12: 0.005159630998499463\n",
      "Factors: 200 - Iterations: 2 - Regularization: 1 ==> MAP@12: 0.004611476913230066\n",
      "Factors: 200 - Iterations: 3 - Regularization: 0.01 ==> MAP@12: 0.0063156548752103525\n",
      "Factors: 200 - Iterations: 3 - Regularization: 0.05 ==> MAP@12: 0.006265345168330073\n",
      "Factors: 200 - Iterations: 3 - Regularization: 0.1 ==> MAP@12: 0.006829359249283674\n",
      "The best MAP@12 is unpdated. : {'factors': 200, 'iterations': 3, 'regularization': 0.1}\n",
      "Factors: 200 - Iterations: 3 - Regularization: 1 ==> MAP@12: 0.00649842630389404\n",
      "Factors: 200 - Iterations: 5 - Regularization: 0.01 ==> MAP@12: 0.00641229517274351\n",
      "Factors: 200 - Iterations: 5 - Regularization: 0.05 ==> MAP@12: 0.006869883087825727\n",
      "The best MAP@12 is unpdated. : {'factors': 200, 'iterations': 5, 'regularization': 0.05}\n",
      "Factors: 200 - Iterations: 5 - Regularization: 0.1 ==> MAP@12: 0.007052701240377643\n",
      "The best MAP@12 is unpdated. : {'factors': 200, 'iterations': 5, 'regularization': 0.1}\n",
      "Factors: 200 - Iterations: 5 - Regularization: 1 ==> MAP@12: 0.0067342275607819285\n",
      "Factors: 200 - Iterations: 12 - Regularization: 0.01 ==> MAP@12: 0.006703419680184026\n",
      "Factors: 200 - Iterations: 12 - Regularization: 0.05 ==> MAP@12: 0.0066040704058710565\n",
      "Factors: 200 - Iterations: 12 - Regularization: 0.1 ==> MAP@12: 0.006541063571423098\n",
      "Factors: 200 - Iterations: 12 - Regularization: 1 ==> MAP@12: 0.006810080744925135\n",
      "Factors: 200 - Iterations: 15 - Regularization: 0.01 ==> MAP@12: 0.006654332514808484\n",
      "Factors: 200 - Iterations: 15 - Regularization: 0.05 ==> MAP@12: 0.0064210368274869815\n",
      "Factors: 200 - Iterations: 15 - Regularization: 0.1 ==> MAP@12: 0.0064932637121426304\n",
      "Factors: 200 - Iterations: 15 - Regularization: 1 ==> MAP@12: 0.006485891309318527\n",
      "Factors: 200 - Iterations: 20 - Regularization: 0.01 ==> MAP@12: 0.006390783464103822\n",
      "Factors: 200 - Iterations: 20 - Regularization: 0.05 ==> MAP@12: 0.0064297790886807555\n",
      "Factors: 200 - Iterations: 20 - Regularization: 0.1 ==> MAP@12: 0.006448559603519403\n",
      "Factors: 200 - Iterations: 20 - Regularization: 1 ==> MAP@12: 0.0064567542999208315\n",
      "Factors: 500 - Iterations: 2 - Regularization: 0.01 ==> MAP@12: 0.006669115353889636\n",
      "Factors: 500 - Iterations: 2 - Regularization: 0.05 ==> MAP@12: 0.006539216939775772\n",
      "Factors: 500 - Iterations: 2 - Regularization: 0.1 ==> MAP@12: 0.0065080562302002485\n",
      "Factors: 500 - Iterations: 2 - Regularization: 1 ==> MAP@12: 0.006631173602600142\n",
      "Factors: 500 - Iterations: 3 - Regularization: 0.01 ==> MAP@12: 0.006852814520996991\n",
      "Factors: 500 - Iterations: 3 - Regularization: 0.05 ==> MAP@12: 0.006629159110676655\n",
      "Factors: 500 - Iterations: 3 - Regularization: 0.1 ==> MAP@12: 0.006494505602700084\n",
      "Factors: 500 - Iterations: 3 - Regularization: 1 ==> MAP@12: 0.006891035693582649\n",
      "Factors: 500 - Iterations: 5 - Regularization: 0.01 ==> MAP@12: 0.0066782494322885555\n"
     ]
    },
    {
     "name": "stdout",
     "output_type": "stream",
     "text": [
      "Factors: 500 - Iterations: 5 - Regularization: 0.05 ==> MAP@12: 0.0064433531433832295\n",
      "Factors: 500 - Iterations: 5 - Regularization: 0.1 ==> MAP@12: 0.006326732010854404\n",
      "Factors: 500 - Iterations: 5 - Regularization: 1 ==> MAP@12: 0.006781994974971307\n",
      "Factors: 500 - Iterations: 12 - Regularization: 0.01 ==> MAP@12: 0.006027062144123001\n",
      "Factors: 500 - Iterations: 12 - Regularization: 0.05 ==> MAP@12: 0.005956772030569571\n",
      "Factors: 500 - Iterations: 12 - Regularization: 0.1 ==> MAP@12: 0.0058292315564137205\n",
      "Factors: 500 - Iterations: 12 - Regularization: 1 ==> MAP@12: 0.005918812851312583\n",
      "Factors: 500 - Iterations: 15 - Regularization: 0.01 ==> MAP@12: 0.005811170069991786\n",
      "Factors: 500 - Iterations: 15 - Regularization: 0.05 ==> MAP@12: 0.0058581136365285875\n",
      "Factors: 500 - Iterations: 15 - Regularization: 0.1 ==> MAP@12: 0.005822451450210537\n",
      "Factors: 500 - Iterations: 15 - Regularization: 1 ==> MAP@12: 0.005853008454828772\n",
      "Factors: 500 - Iterations: 20 - Regularization: 0.01 ==> MAP@12: 0.0057811529897079566\n",
      "Factors: 500 - Iterations: 20 - Regularization: 0.05 ==> MAP@12: 0.005775401627177846\n",
      "Factors: 500 - Iterations: 20 - Regularization: 0.1 ==> MAP@12: 0.005758753530291337\n",
      "Factors: 500 - Iterations: 20 - Regularization: 1 ==> MAP@12: 0.005752497282928608\n",
      "Factors: 1000 - Iterations: 2 - Regularization: 0.01 ==> MAP@12: 0.0062758805711668406\n",
      "Factors: 1000 - Iterations: 2 - Regularization: 0.05 ==> MAP@12: 0.006853935881596822\n",
      "Factors: 1000 - Iterations: 2 - Regularization: 0.1 ==> MAP@12: 0.006682241729971595\n",
      "Factors: 1000 - Iterations: 2 - Regularization: 1 ==> MAP@12: 0.007137813127096813\n",
      "The best MAP@12 is unpdated. : {'factors': 1000, 'iterations': 2, 'regularization': 1}\n",
      "Factors: 1000 - Iterations: 3 - Regularization: 0.01 ==> MAP@12: 0.006644106633895772\n",
      "Factors: 1000 - Iterations: 3 - Regularization: 0.05 ==> MAP@12: 0.006667700335368864\n",
      "Factors: 1000 - Iterations: 3 - Regularization: 0.1 ==> MAP@12: 0.0065012655655069555\n",
      "Factors: 1000 - Iterations: 3 - Regularization: 1 ==> MAP@12: 0.007013490698516576\n",
      "Factors: 1000 - Iterations: 5 - Regularization: 0.01 ==> MAP@12: 0.006534508291031715\n",
      "Factors: 1000 - Iterations: 5 - Regularization: 0.05 ==> MAP@12: 0.006679681333886286\n",
      "Factors: 1000 - Iterations: 5 - Regularization: 0.1 ==> MAP@12: 0.0065843036723070986\n",
      "Factors: 1000 - Iterations: 5 - Regularization: 1 ==> MAP@12: 0.006537505545185749\n",
      "Factors: 1000 - Iterations: 12 - Regularization: 0.01 ==> MAP@12: 0.006152710071816951\n",
      "Factors: 1000 - Iterations: 12 - Regularization: 0.05 ==> MAP@12: 0.006068936590996821\n",
      "Factors: 1000 - Iterations: 12 - Regularization: 0.1 ==> MAP@12: 0.006104195769210388\n",
      "Factors: 1000 - Iterations: 12 - Regularization: 1 ==> MAP@12: 0.006234095809590074\n",
      "Factors: 1000 - Iterations: 15 - Regularization: 0.01 ==> MAP@12: 0.005921779271684066\n",
      "Factors: 1000 - Iterations: 15 - Regularization: 0.05 ==> MAP@12: 0.006046178486934551\n",
      "Factors: 1000 - Iterations: 15 - Regularization: 0.1 ==> MAP@12: 0.006001674221362206\n",
      "Factors: 1000 - Iterations: 15 - Regularization: 1 ==> MAP@12: 0.006038040488197223\n",
      "Factors: 1000 - Iterations: 20 - Regularization: 0.01 ==> MAP@12: 0.006017071563454687\n",
      "Factors: 1000 - Iterations: 20 - Regularization: 0.05 ==> MAP@12: 0.005999533857007472\n",
      "Factors: 1000 - Iterations: 20 - Regularization: 0.1 ==> MAP@12: 0.005979193534318651\n",
      "Factors: 1000 - Iterations: 20 - Regularization: 1 ==> MAP@12: 0.006117441746537976\n"
     ]
    }
   ],
   "source": [
    "matrices = get_val_matrices(df)\n",
    "coo_train, csr_train, csr_val = matrices['coo_train'], matrices['csr_train'], matrices['csr_val']\n",
    "best_map12 = 0\n",
    "\n",
    "grid = ParameterGrid({\n",
    "    \"factors\": [50, 100, 200, 500, 1000],\n",
    "    'regularization':[0.01, 0.05, 0.1, 1],\n",
    "    'iterations':[2, 3, 5, 12, 15, 20]\n",
    "})\n",
    "\n",
    "for params in grid:\n",
    "    model = implicit.als.AlternatingLeastSquares(**params)\n",
    "    model.fit(coo_train,show_progress=False)\n",
    "    map12 = mean_average_precision_at_k(model, csr_train, csr_val, K=12,show_progress=False)\n",
    "    print(f\"Factors: {params['factors']} - Iterations: {params['iterations']} - Regularization: {params['regularization']} ==> MAP@12: {map12}\")\n",
    "    if map12 > best_map12:\n",
    "                best_map12 = map12\n",
    "                best_params = {'factors': params['factors'], 'iterations': params['iterations'], 'regularization': params['regularization']}\n",
    "                print(f\"The best MAP@12 is unpdated. : {best_params}\")"
   ]
  },
  {
   "cell_type": "code",
   "execution_count": 13,
   "id": "9bc93605",
   "metadata": {},
   "outputs": [
    {
     "data": {
      "text/plain": [
       "{'factors': 1000, 'iterations': 2, 'regularization': 1}"
      ]
     },
     "execution_count": 13,
     "metadata": {},
     "output_type": "execute_result"
    }
   ],
   "source": [
    "del matrices\n",
    "best_params"
   ]
  },
  {
   "cell_type": "code",
   "execution_count": 14,
   "id": "834fdd21",
   "metadata": {},
   "outputs": [],
   "source": [
    "base_path = 'C://Users//darli//Desktop//527//group project//h-and-m-personalized-fashion-recommendations//'\n",
    "csv_train = f'{base_path}transactions_train.csv'\n",
    "csv_sub = f'{base_path}sample_submission.csv'\n",
    "csv_users = f'{base_path}customers.csv'\n",
    "csv_items = f'{base_path}articles.csv'\n",
    "\n",
    "df = pd.read_csv(csv_train, dtype={'article_id': str}, parse_dates=['t_dat'])\n",
    "df_sub = pd.read_csv(csv_sub)\n",
    "dfu = pd.read_csv(csv_users)\n",
    "dfi = pd.read_csv(csv_items, dtype={'article_id': str})"
   ]
  },
  {
   "cell_type": "code",
   "execution_count": 15,
   "id": "1921228f",
   "metadata": {},
   "outputs": [
    {
     "data": {
      "text/plain": [
       "(1190911, 5)"
      ]
     },
     "execution_count": 15,
     "metadata": {},
     "output_type": "execute_result"
    }
   ],
   "source": [
    "# use the data after 2020-08-21 to find the best parameters (factors, regularization and interations)\n",
    "df = df[df['t_dat'] > '2020-08-21']\n",
    "df.shape"
   ]
  },
  {
   "cell_type": "code",
   "execution_count": 16,
   "id": "f5df3f95",
   "metadata": {},
   "outputs": [],
   "source": [
    "ALL_USERS = dfu['customer_id'].unique().tolist()\n",
    "ALL_ITEMS = dfi['article_id'].unique().tolist()\n",
    "\n",
    "user_ids = dict(list(enumerate(ALL_USERS)))\n",
    "item_ids = dict(list(enumerate(ALL_ITEMS)))\n",
    "\n",
    "user_map = {u: uidx for uidx, u in user_ids.items()}\n",
    "item_map = {i: iidx for iidx, i in item_ids.items()}\n",
    "# print('user_id 1:\\n',df['customer_id'])\n",
    "\n",
    "df['user_id'] = df['customer_id'].map(user_map)\n",
    "# print('user_id 2:\\n',df['user_id'])\n",
    "df['item_id'] = df['article_id'].map(item_map)\n",
    "\n",
    "del dfu, dfi"
   ]
  },
  {
   "cell_type": "code",
   "execution_count": 17,
   "id": "63d77f2b",
   "metadata": {},
   "outputs": [
    {
     "data": {
      "application/vnd.jupyter.widget-view+json": {
       "model_id": "ec4dc2b1ac634b36a5fcf03f756919aa",
       "version_major": 2,
       "version_minor": 0
      },
      "text/plain": [
       "  0%|          | 0/2 [00:00<?, ?it/s]"
      ]
     },
     "metadata": {},
     "output_type": "display_data"
    }
   ],
   "source": [
    "coo_train = to_user_item_coo(df)\n",
    "csr_train = coo_train.tocsr()\n",
    "\n",
    "model = implicit.als.AlternatingLeastSquares(factors=1000, \n",
    "                                            iterations=2, \n",
    "                                            regularization=1, \n",
    "                                            random_state=42)\n",
    "model.fit(coo_train, show_progress=True)"
   ]
  },
  {
   "cell_type": "code",
   "execution_count": 18,
   "id": "f6068e9a",
   "metadata": {},
   "outputs": [
    {
     "data": {
      "text/html": [
       "<div>\n",
       "<style scoped>\n",
       "    .dataframe tbody tr th:only-of-type {\n",
       "        vertical-align: middle;\n",
       "    }\n",
       "\n",
       "    .dataframe tbody tr th {\n",
       "        vertical-align: top;\n",
       "    }\n",
       "\n",
       "    .dataframe thead th {\n",
       "        text-align: right;\n",
       "    }\n",
       "</style>\n",
       "<table border=\"1\" class=\"dataframe\">\n",
       "  <thead>\n",
       "    <tr style=\"text-align: right;\">\n",
       "      <th></th>\n",
       "      <th>customer_id</th>\n",
       "      <th>prediction</th>\n",
       "    </tr>\n",
       "  </thead>\n",
       "  <tbody>\n",
       "    <tr>\n",
       "      <th>0</th>\n",
       "      <td>00000dbacae5abe5e23885899a1fa44253a17956c6d1c3...</td>\n",
       "      <td>0568601043 0858856005 0779781015 0716670009 07...</td>\n",
       "    </tr>\n",
       "    <tr>\n",
       "      <th>1</th>\n",
       "      <td>0000423b00ade91418cceaf3b26c6af3dd342b51fd051e...</td>\n",
       "      <td>0112679048 0111609001 0111593001 0111586001 01...</td>\n",
       "    </tr>\n",
       "    <tr>\n",
       "      <th>2</th>\n",
       "      <td>000058a12d5b43e67d225668fa1f8d618c13dc232df0ca...</td>\n",
       "      <td>0794321007 0794321011 0805000001 0568601043 08...</td>\n",
       "    </tr>\n",
       "    <tr>\n",
       "      <th>3</th>\n",
       "      <td>00005ca1c9ed5f5146b52ac8639a40ca9d57aeff4d1bd2...</td>\n",
       "      <td>0112679048 0111609001 0111593001 0111586001 01...</td>\n",
       "    </tr>\n",
       "    <tr>\n",
       "      <th>4</th>\n",
       "      <td>00006413d8573cd20ed7128e53b7b13819fe5cfc2d801f...</td>\n",
       "      <td>0112679048 0111609001 0111593001 0111586001 01...</td>\n",
       "    </tr>\n",
       "  </tbody>\n",
       "</table>\n",
       "</div>"
      ],
      "text/plain": [
       "                                         customer_id  \\\n",
       "0  00000dbacae5abe5e23885899a1fa44253a17956c6d1c3...   \n",
       "1  0000423b00ade91418cceaf3b26c6af3dd342b51fd051e...   \n",
       "2  000058a12d5b43e67d225668fa1f8d618c13dc232df0ca...   \n",
       "3  00005ca1c9ed5f5146b52ac8639a40ca9d57aeff4d1bd2...   \n",
       "4  00006413d8573cd20ed7128e53b7b13819fe5cfc2d801f...   \n",
       "\n",
       "                                          prediction  \n",
       "0  0568601043 0858856005 0779781015 0716670009 07...  \n",
       "1  0112679048 0111609001 0111593001 0111586001 01...  \n",
       "2  0794321007 0794321011 0805000001 0568601043 08...  \n",
       "3  0112679048 0111609001 0111593001 0111586001 01...  \n",
       "4  0112679048 0111609001 0111593001 0111586001 01...  "
      ]
     },
     "metadata": {},
     "output_type": "display_data"
    },
    {
     "name": "stdout",
     "output_type": "stream",
     "text": [
      "(1371980, 2)\n"
     ]
    }
   ],
   "source": [
    "preds = []\n",
    "batch_size = 2000\n",
    "to_generate = np.arange(len(ALL_USERS))\n",
    "for startidx in range(0, len(to_generate), batch_size):\n",
    "    batch = to_generate[startidx : startidx + batch_size]\n",
    "    ids, scores = model.recommend(batch, csr_train[batch], N=12, filter_already_liked_items=False)\n",
    "    for i, userid in enumerate(batch):\n",
    "        customer_id = user_ids[userid]\n",
    "        user_items = ids[i]\n",
    "        article_ids = [item_ids[item_id] for item_id in user_items]\n",
    "        preds.append((customer_id, ' '.join(article_ids)))\n",
    "\n",
    "df_preds = pd.DataFrame(preds, columns=['customer_id', 'prediction'])\n",
    "df_preds.to_csv('submission.csv', index=False)\n",
    "    \n",
    "display(df_preds.head())\n",
    "print(df_preds.shape)"
   ]
  },
  {
   "cell_type": "code",
   "execution_count": null,
   "id": "de8440e3",
   "metadata": {},
   "outputs": [],
   "source": []
  }
 ],
 "metadata": {
  "kernelspec": {
   "display_name": "Python 3",
   "language": "python",
   "name": "python3"
  },
  "language_info": {
   "codemirror_mode": {
    "name": "ipython",
    "version": 3
   },
   "file_extension": ".py",
   "mimetype": "text/x-python",
   "name": "python",
   "nbconvert_exporter": "python",
   "pygments_lexer": "ipython3",
   "version": "3.8.8"
  }
 },
 "nbformat": 4,
 "nbformat_minor": 5
}
