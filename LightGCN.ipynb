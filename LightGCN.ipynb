{
 "cells": [
  {
   "cell_type": "code",
   "execution_count": 2,
   "id": "72e949ba",
   "metadata": {},
   "outputs": [
    {
     "name": "stdout",
     "output_type": "stream",
     "text": [
      "        t_dat                                        customer_id  article_id  \\\n",
      "0  2018-09-20  000058a12d5b43e67d225668fa1f8d618c13dc232df0ca...   663713001   \n",
      "1  2018-09-20  000058a12d5b43e67d225668fa1f8d618c13dc232df0ca...   541518023   \n",
      "2  2018-09-20  00007d2de826758b65a93dd24ce629ed66842531df6699...   505221004   \n",
      "3  2018-09-20  00007d2de826758b65a93dd24ce629ed66842531df6699...   685687003   \n",
      "4  2018-09-20  00007d2de826758b65a93dd24ce629ed66842531df6699...   685687004   \n",
      "\n",
      "      price  sales_channel_id  \n",
      "0  0.050831                 2  \n",
      "1  0.030492                 2  \n",
      "2  0.015237                 2  \n",
      "3  0.016932                 2  \n",
      "4  0.016932                 2  \n"
     ]
    }
   ],
   "source": [
    "import pandas as pd\n",
    "transactions = pd.read_csv(\"data/transactions_train.csv\")\n",
    "print(transactions.head(5))"
   ]
  },
  {
   "cell_type": "code",
   "execution_count": 7,
   "id": "101726d5",
   "metadata": {},
   "outputs": [
    {
     "name": "stdout",
     "output_type": "stream",
     "text": [
      "be1981ab818cf4ef6765b2ecaea7a2cbf14ccd6e8a7ee985513d9e8e53c6d91b    1895\n",
      "b4db5e5259234574edfff958e170fe3a5e13b6f146752ca066abca3c156acc71    1441\n",
      "49beaacac0c7801c2ce2d189efe525fe80b5d37e46ed05b50a4cd88e34d0748f    1364\n",
      "a65f77281a528bf5c1e9f270141d601d116e1df33bf9df512f495ee06647a9cc    1361\n",
      "cd04ec2726dd58a8c753e0d6423e57716fd9ebcf2f14ed6012e7e5bea016b4d6    1237\n",
      "                                                                    ... \n",
      "63b70b71291668f0a63ade8e321fb3eccb80eba164f2087dad471de065f18e1f       1\n",
      "950b172c36d169bf427545991fe66371f21a085799b44780fdcb2da6a3091613       1\n",
      "7c284f13f4af9d6a53f97279381638ed0cb7afaa4fd4f3eaadc21993ea45fc69       1\n",
      "62d49d0ae11a4f65fa31e354cb87f6b557ebec648e0e5e71435d2dd190d1ccc4       1\n",
      "268eaa31a07d6f2f4f060bfcf32a660f3ea3dbb21ef14cd09fc2545f4e0b5c10       1\n",
      "Name: customer_id, Length: 1362281, dtype: int64\n"
     ]
    }
   ],
   "source": [
    "customers_buy_records = transactions['customer_id'].value_counts()\n",
    "print(customers_buy_records)"
   ]
  },
  {
   "cell_type": "code",
   "execution_count": 8,
   "id": "423a23f3",
   "metadata": {},
   "outputs": [
    {
     "name": "stdout",
     "output_type": "stream",
     "text": [
      "                                               customer_id  shop_times\n",
      "0        be1981ab818cf4ef6765b2ecaea7a2cbf14ccd6e8a7ee9...        1895\n",
      "1        b4db5e5259234574edfff958e170fe3a5e13b6f146752c...        1441\n",
      "2        49beaacac0c7801c2ce2d189efe525fe80b5d37e46ed05...        1364\n",
      "3        a65f77281a528bf5c1e9f270141d601d116e1df33bf9df...        1361\n",
      "4        cd04ec2726dd58a8c753e0d6423e57716fd9ebcf2f14ed...        1237\n",
      "...                                                    ...         ...\n",
      "1362276  63b70b71291668f0a63ade8e321fb3eccb80eba164f208...           1\n",
      "1362277  950b172c36d169bf427545991fe66371f21a085799b447...           1\n",
      "1362278  7c284f13f4af9d6a53f97279381638ed0cb7afaa4fd4f3...           1\n",
      "1362279  62d49d0ae11a4f65fa31e354cb87f6b557ebec648e0e5e...           1\n",
      "1362280  268eaa31a07d6f2f4f060bfcf32a660f3ea3dbb21ef14c...           1\n",
      "\n",
      "[1362281 rows x 2 columns]\n"
     ]
    }
   ],
   "source": [
    "customers_buy_records = customers_buy_records.reset_index()\n",
    "customers_buy_records = customers_buy_records.rename(columns = {\"index\": \"customer_id\", \"customer_id\": \"shop_times\"})\n",
    "print(customers_buy_records)"
   ]
  },
  {
   "cell_type": "code",
   "execution_count": 15,
   "id": "4246a001",
   "metadata": {},
   "outputs": [
    {
     "data": {
      "text/html": [
       "<div>\n",
       "<style scoped>\n",
       "    .dataframe tbody tr th:only-of-type {\n",
       "        vertical-align: middle;\n",
       "    }\n",
       "\n",
       "    .dataframe tbody tr th {\n",
       "        vertical-align: top;\n",
       "    }\n",
       "\n",
       "    .dataframe thead th {\n",
       "        text-align: right;\n",
       "    }\n",
       "</style>\n",
       "<table border=\"1\" class=\"dataframe\">\n",
       "  <thead>\n",
       "    <tr style=\"text-align: right;\">\n",
       "      <th></th>\n",
       "      <th>customer_id</th>\n",
       "      <th>shop_times</th>\n",
       "    </tr>\n",
       "  </thead>\n",
       "  <tbody>\n",
       "    <tr>\n",
       "      <th>0</th>\n",
       "      <td>be1981ab818cf4ef6765b2ecaea7a2cbf14ccd6e8a7ee9...</td>\n",
       "      <td>1895</td>\n",
       "    </tr>\n",
       "    <tr>\n",
       "      <th>1</th>\n",
       "      <td>b4db5e5259234574edfff958e170fe3a5e13b6f146752c...</td>\n",
       "      <td>1441</td>\n",
       "    </tr>\n",
       "    <tr>\n",
       "      <th>2</th>\n",
       "      <td>49beaacac0c7801c2ce2d189efe525fe80b5d37e46ed05...</td>\n",
       "      <td>1364</td>\n",
       "    </tr>\n",
       "    <tr>\n",
       "      <th>3</th>\n",
       "      <td>a65f77281a528bf5c1e9f270141d601d116e1df33bf9df...</td>\n",
       "      <td>1361</td>\n",
       "    </tr>\n",
       "    <tr>\n",
       "      <th>4</th>\n",
       "      <td>cd04ec2726dd58a8c753e0d6423e57716fd9ebcf2f14ed...</td>\n",
       "      <td>1237</td>\n",
       "    </tr>\n",
       "    <tr>\n",
       "      <th>...</th>\n",
       "      <td>...</td>\n",
       "      <td>...</td>\n",
       "    </tr>\n",
       "    <tr>\n",
       "      <th>57261</th>\n",
       "      <td>975fb9d8200037c7658bcebe503dfbd85590114fd2138f...</td>\n",
       "      <td>100</td>\n",
       "    </tr>\n",
       "    <tr>\n",
       "      <th>57262</th>\n",
       "      <td>01db86c117b7ffc359a257daf911acefefe30888a3d72b...</td>\n",
       "      <td>100</td>\n",
       "    </tr>\n",
       "    <tr>\n",
       "      <th>57263</th>\n",
       "      <td>3ce4c576da85bacb17d216cefd6efd1697836972d99e52...</td>\n",
       "      <td>100</td>\n",
       "    </tr>\n",
       "    <tr>\n",
       "      <th>57264</th>\n",
       "      <td>6d9f31f4a0302e6b2a26c2695222a41f5bd4bbe11ca53b...</td>\n",
       "      <td>100</td>\n",
       "    </tr>\n",
       "    <tr>\n",
       "      <th>57265</th>\n",
       "      <td>fbe459c11e003d4e4a7ec21c298b2cece442d17797c22b...</td>\n",
       "      <td>100</td>\n",
       "    </tr>\n",
       "  </tbody>\n",
       "</table>\n",
       "<p>57266 rows × 2 columns</p>\n",
       "</div>"
      ],
      "text/plain": [
       "                                             customer_id  shop_times\n",
       "0      be1981ab818cf4ef6765b2ecaea7a2cbf14ccd6e8a7ee9...        1895\n",
       "1      b4db5e5259234574edfff958e170fe3a5e13b6f146752c...        1441\n",
       "2      49beaacac0c7801c2ce2d189efe525fe80b5d37e46ed05...        1364\n",
       "3      a65f77281a528bf5c1e9f270141d601d116e1df33bf9df...        1361\n",
       "4      cd04ec2726dd58a8c753e0d6423e57716fd9ebcf2f14ed...        1237\n",
       "...                                                  ...         ...\n",
       "57261  975fb9d8200037c7658bcebe503dfbd85590114fd2138f...         100\n",
       "57262  01db86c117b7ffc359a257daf911acefefe30888a3d72b...         100\n",
       "57263  3ce4c576da85bacb17d216cefd6efd1697836972d99e52...         100\n",
       "57264  6d9f31f4a0302e6b2a26c2695222a41f5bd4bbe11ca53b...         100\n",
       "57265  fbe459c11e003d4e4a7ec21c298b2cece442d17797c22b...         100\n",
       "\n",
       "[57266 rows x 2 columns]"
      ]
     },
     "execution_count": 15,
     "metadata": {},
     "output_type": "execute_result"
    }
   ],
   "source": [
    "# cut down the dataset so that it can be trained in a reasonable amount of time\n",
    "customers_buy_records.loc[customers_buy_records['shop_times'] >= 100]"
   ]
  },
  {
   "cell_type": "code",
   "execution_count": null,
   "id": "326abc8c",
   "metadata": {},
   "outputs": [],
   "source": []
  }
 ],
 "metadata": {
  "kernelspec": {
   "display_name": "Python 3",
   "language": "python",
   "name": "python3"
  },
  "language_info": {
   "codemirror_mode": {
    "name": "ipython",
    "version": 3
   },
   "file_extension": ".py",
   "mimetype": "text/x-python",
   "name": "python",
   "nbconvert_exporter": "python",
   "pygments_lexer": "ipython3",
   "version": "3.8.8"
  }
 },
 "nbformat": 4,
 "nbformat_minor": 5
}
